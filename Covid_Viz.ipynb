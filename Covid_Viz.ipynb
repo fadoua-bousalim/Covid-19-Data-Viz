{
  "cells": [
    {
      "cell_type": "markdown",
      "metadata": {
        "id": "view-in-github",
        "colab_type": "text"
      },
      "source": [
        "<a href=\"https://colab.research.google.com/github/fadoua-bousalim/Covid-19-Data-Viz/blob/main/Covid_Viz.ipynb\" target=\"_parent\"><img src=\"https://colab.research.google.com/assets/colab-badge.svg\" alt=\"Open In Colab\"/></a>"
      ]
    },
    {
      "cell_type": "markdown",
      "metadata": {
        "id": "vpbe2k34pzY9"
      },
      "source": [
        "# GPU check\n",
        "\n",
        "---\n",
        "\n",
        "\n",
        "\n",
        "---\n",
        "\n"
      ]
    },
    {
      "cell_type": "code",
      "execution_count": 1,
      "metadata": {
        "id": "YL8cziWWodgq"
      },
      "outputs": [],
      "source": [
        "import tensorflow as tf\n",
        "gpus = tf.config.list_physical_devices('GPU')"
      ]
    },
    {
      "cell_type": "code",
      "execution_count": 2,
      "metadata": {
        "id": "2b9UgLGXoxxN",
        "colab": {
          "base_uri": "https://localhost:8080/"
        },
        "outputId": "1228df3c-a1eb-4134-eb6a-fc5306ef5fb6"
      },
      "outputs": [
        {
          "output_type": "stream",
          "name": "stdout",
          "text": [
            "1 Phyiscal GPUs, 1 Logical GPUs\n"
          ]
        }
      ],
      "source": [
        "if gpus : \n",
        "    try :\n",
        "        for gpu in gpus :\n",
        "            tf.config.experimental.set_memory_growth(gpu, True)\n",
        "        logical_gpus =  tf.config.experimental.list_logical_devices('GPU')\n",
        "        print(len(gpus), 'Phyiscal GPUs,', len(logical_gpus), 'Logical GPUs')\n",
        "    except RunTimeError as e :\n",
        "        print(e)"
      ]
    },
    {
      "cell_type": "markdown",
      "metadata": {
        "id": "WCYoxM02p6LC"
      },
      "source": [
        "# Imports & functions\n",
        "\n",
        "---\n",
        "---\n",
        "\n"
      ]
    },
    {
      "cell_type": "code",
      "execution_count": 3,
      "metadata": {
        "id": "h-F818ohqE49"
      },
      "outputs": [],
      "source": [
        "import pandas as pd\n",
        "import numpy as np\n",
        "from pandas import ExcelWriter\n",
        "from pandas import ExcelFile\n",
        "import matplotlib.pyplot as plt\n",
        "import seaborn as sns\n",
        "import time \n",
        "import datetime \n",
        "import json\n",
        "\n",
        "import warnings\n",
        "warnings.filterwarnings(\"ignore\")"
      ]
    },
    {
      "cell_type": "code",
      "execution_count": 4,
      "metadata": {
        "id": "p4ddSdIhqI6U"
      },
      "outputs": [],
      "source": [
        "# Function to give stats on missing values in a table or dataframe\n",
        "def missing_values_table(df):\n",
        "        mis_val = df.isnull().sum()\n",
        "        mis_val_percent = 100 * df.isnull().sum() / len(df)\n",
        "        mis_val_table = pd.concat([mis_val, mis_val_percent], axis=1)\n",
        "        mis_val_table_ren_columns = mis_val_table.rename(\n",
        "        columns = {0 : 'Missing Values', 1 : '% of Total Values'})\n",
        "        mis_val_table_ren_columns = mis_val_table_ren_columns[\n",
        "            mis_val_table_ren_columns.iloc[:,1] != 0].sort_values(\n",
        "        '% of Total Values', ascending=False).round(1)\n",
        "        print (\"Your selected dataframe has \" + str(df.shape[1]) + \" columns.\\n\"      \n",
        "            \"There are \" + str(mis_val_table_ren_columns.shape[0]) +\n",
        "              \" columns that have missing values.\")\n",
        "        return mis_val_table_ren_columns"
      ]
    },
    {
      "cell_type": "code",
      "source": [
        "import datetime \n",
        "\n",
        "# String to date funtion\n",
        "def str_to_date(string) :\n",
        "  return datetime.datetime.strptime(string, '%Y-%m-%d')\n",
        "\n",
        "# Difference of two dates\n",
        "def diff_date(date1, date2) :\n",
        "  return (date2 - date1).days\n",
        "\n",
        "# Date parts\n",
        "def year(string) :\n",
        "  return str_to_date(string).year\n",
        "\n",
        "def month_number(string) :\n",
        "  return str_to_date(string).month\n",
        "\n",
        "def month_name(string) :\n",
        "  return str_to_date(string).strftime('%b')\n",
        "\n",
        "def day(string) :\n",
        "  return str_to_date(string).day"
      ],
      "metadata": {
        "id": "9EtL35HreW4A"
      },
      "execution_count": 5,
      "outputs": []
    },
    {
      "cell_type": "code",
      "execution_count": 6,
      "metadata": {
        "id": "QsXj6VT6uCdk"
      },
      "outputs": [],
      "source": [
        "pip install pycountry_convert &> /dev/null"
      ]
    },
    {
      "cell_type": "code",
      "execution_count": 7,
      "metadata": {
        "id": "M2jQCnzPtrDs"
      },
      "outputs": [],
      "source": [
        "import pycountry_convert as pc\n",
        "import pycountry as p\n",
        "\n",
        "def country(country_code) :\n",
        "  if country_code == 'XK' :\n",
        "    country_name = 'Kosovo'\n",
        "  else :\n",
        "    # country_code = pc.country_name_to_country_alpha2(country, cn_name_format=\"default\")\n",
        "    country_name = p.countries.get(alpha_2=country_code).name\n",
        "  return country_name\n",
        "\n",
        "def continent(country_code) :\n",
        "  if country_code in ('VA', 'SX') :\n",
        "    continent_name = 'Europe'\n",
        "  elif country_code == 'TL' :\n",
        "    continent_name = 'Asia'\n",
        "  elif country_code == 'PN' :\n",
        "    continent_name = 'Oceania'\n",
        "  else :\n",
        "    continent_code = pc.country_alpha2_to_continent_code(country_code)\n",
        "    continent_name = pc.convert_continent_code_to_continent_name(continent_code)\n",
        "  return continent_name"
      ]
    },
    {
      "cell_type": "markdown",
      "metadata": {
        "id": "aIFhW9dRqTDl"
      },
      "source": [
        "# Data loading & preprocessing\n",
        "\n",
        "---\n",
        "\n",
        "\n",
        "\n",
        "---\n",
        "\n",
        "\n",
        "\n"
      ]
    },
    {
      "cell_type": "code",
      "execution_count": 8,
      "metadata": {
        "id": "R_NBxutSo3QZ"
      },
      "outputs": [],
      "source": [
        "pip install --upgrade covid19dh &> /dev/null"
      ]
    },
    {
      "cell_type": "code",
      "execution_count": 9,
      "metadata": {
        "id": "NGTNt-uPozJi"
      },
      "outputs": [],
      "source": [
        "from covid19dh import covid19\n",
        "from datetime import date\n",
        "\n",
        "x, src = covid19(verbose=False, level=1, start=date(2020,1,5), end=date(2021,11,30)) "
      ]
    },
    {
      "cell_type": "code",
      "execution_count": 10,
      "metadata": {
        "colab": {
          "base_uri": "https://localhost:8080/",
          "height": 357
        },
        "id": "BeSe7ijjpCBS",
        "outputId": "b3ac1589-1d7d-4b16-cd2d-907d582338eb"
      },
      "outputs": [
        {
          "output_type": "execute_result",
          "data": {
            "text/html": [
              "\n",
              "  <div id=\"df-1bc43dc9-15ba-418f-9143-3d1a723bbe5c\">\n",
              "    <div class=\"colab-df-container\">\n",
              "      <div>\n",
              "<style scoped>\n",
              "    .dataframe tbody tr th:only-of-type {\n",
              "        vertical-align: middle;\n",
              "    }\n",
              "\n",
              "    .dataframe tbody tr th {\n",
              "        vertical-align: top;\n",
              "    }\n",
              "\n",
              "    .dataframe thead th {\n",
              "        text-align: right;\n",
              "    }\n",
              "</style>\n",
              "<table border=\"1\" class=\"dataframe\">\n",
              "  <thead>\n",
              "    <tr style=\"text-align: right;\">\n",
              "      <th></th>\n",
              "      <th>id</th>\n",
              "      <th>date</th>\n",
              "      <th>confirmed</th>\n",
              "      <th>deaths</th>\n",
              "      <th>recovered</th>\n",
              "      <th>tests</th>\n",
              "      <th>vaccines</th>\n",
              "      <th>people_vaccinated</th>\n",
              "      <th>people_fully_vaccinated</th>\n",
              "      <th>hosp</th>\n",
              "      <th>icu</th>\n",
              "      <th>vent</th>\n",
              "      <th>school_closing</th>\n",
              "      <th>workplace_closing</th>\n",
              "      <th>cancel_events</th>\n",
              "      <th>gatherings_restrictions</th>\n",
              "      <th>transport_closing</th>\n",
              "      <th>stay_home_restrictions</th>\n",
              "      <th>internal_movement_restrictions</th>\n",
              "      <th>international_movement_restrictions</th>\n",
              "      <th>information_campaigns</th>\n",
              "      <th>testing_policy</th>\n",
              "      <th>contact_tracing</th>\n",
              "      <th>facial_coverings</th>\n",
              "      <th>vaccination_policy</th>\n",
              "      <th>elderly_people_protection</th>\n",
              "      <th>government_response_index</th>\n",
              "      <th>stringency_index</th>\n",
              "      <th>containment_health_index</th>\n",
              "      <th>economic_support_index</th>\n",
              "      <th>administrative_area_level</th>\n",
              "      <th>administrative_area_level_1</th>\n",
              "      <th>administrative_area_level_2</th>\n",
              "      <th>administrative_area_level_3</th>\n",
              "      <th>latitude</th>\n",
              "      <th>longitude</th>\n",
              "      <th>population</th>\n",
              "      <th>iso_alpha_3</th>\n",
              "      <th>iso_alpha_2</th>\n",
              "      <th>iso_numeric</th>\n",
              "      <th>iso_currency</th>\n",
              "      <th>key_local</th>\n",
              "      <th>key_google_mobility</th>\n",
              "      <th>key_apple_mobility</th>\n",
              "      <th>key_jhu_csse</th>\n",
              "      <th>key_nuts</th>\n",
              "      <th>key_gadm</th>\n",
              "    </tr>\n",
              "  </thead>\n",
              "  <tbody>\n",
              "    <tr>\n",
              "      <th>86757</th>\n",
              "      <td>0094b645</td>\n",
              "      <td>2020-01-22</td>\n",
              "      <td>NaN</td>\n",
              "      <td>NaN</td>\n",
              "      <td>NaN</td>\n",
              "      <td>NaN</td>\n",
              "      <td>NaN</td>\n",
              "      <td>NaN</td>\n",
              "      <td>NaN</td>\n",
              "      <td>NaN</td>\n",
              "      <td>NaN</td>\n",
              "      <td>NaN</td>\n",
              "      <td>NaN</td>\n",
              "      <td>NaN</td>\n",
              "      <td>NaN</td>\n",
              "      <td>NaN</td>\n",
              "      <td>NaN</td>\n",
              "      <td>NaN</td>\n",
              "      <td>NaN</td>\n",
              "      <td>NaN</td>\n",
              "      <td>NaN</td>\n",
              "      <td>NaN</td>\n",
              "      <td>NaN</td>\n",
              "      <td>NaN</td>\n",
              "      <td>NaN</td>\n",
              "      <td>NaN</td>\n",
              "      <td>NaN</td>\n",
              "      <td>NaN</td>\n",
              "      <td>NaN</td>\n",
              "      <td>NaN</td>\n",
              "      <td>1</td>\n",
              "      <td>Saint Lucia</td>\n",
              "      <td>NaN</td>\n",
              "      <td>NaN</td>\n",
              "      <td>13.9094</td>\n",
              "      <td>-60.9789</td>\n",
              "      <td>181889.0</td>\n",
              "      <td>LCA</td>\n",
              "      <td>LC</td>\n",
              "      <td>662.0</td>\n",
              "      <td>XCD</td>\n",
              "      <td>NaN</td>\n",
              "      <td>NaN</td>\n",
              "      <td>NaN</td>\n",
              "      <td>LC</td>\n",
              "      <td>NaN</td>\n",
              "      <td>LCA</td>\n",
              "    </tr>\n",
              "    <tr>\n",
              "      <th>86758</th>\n",
              "      <td>0094b645</td>\n",
              "      <td>2020-01-23</td>\n",
              "      <td>NaN</td>\n",
              "      <td>NaN</td>\n",
              "      <td>NaN</td>\n",
              "      <td>NaN</td>\n",
              "      <td>NaN</td>\n",
              "      <td>NaN</td>\n",
              "      <td>NaN</td>\n",
              "      <td>NaN</td>\n",
              "      <td>NaN</td>\n",
              "      <td>NaN</td>\n",
              "      <td>NaN</td>\n",
              "      <td>NaN</td>\n",
              "      <td>NaN</td>\n",
              "      <td>NaN</td>\n",
              "      <td>NaN</td>\n",
              "      <td>NaN</td>\n",
              "      <td>NaN</td>\n",
              "      <td>NaN</td>\n",
              "      <td>NaN</td>\n",
              "      <td>NaN</td>\n",
              "      <td>NaN</td>\n",
              "      <td>NaN</td>\n",
              "      <td>NaN</td>\n",
              "      <td>NaN</td>\n",
              "      <td>NaN</td>\n",
              "      <td>NaN</td>\n",
              "      <td>NaN</td>\n",
              "      <td>NaN</td>\n",
              "      <td>1</td>\n",
              "      <td>Saint Lucia</td>\n",
              "      <td>NaN</td>\n",
              "      <td>NaN</td>\n",
              "      <td>13.9094</td>\n",
              "      <td>-60.9789</td>\n",
              "      <td>181889.0</td>\n",
              "      <td>LCA</td>\n",
              "      <td>LC</td>\n",
              "      <td>662.0</td>\n",
              "      <td>XCD</td>\n",
              "      <td>NaN</td>\n",
              "      <td>NaN</td>\n",
              "      <td>NaN</td>\n",
              "      <td>LC</td>\n",
              "      <td>NaN</td>\n",
              "      <td>LCA</td>\n",
              "    </tr>\n",
              "    <tr>\n",
              "      <th>86759</th>\n",
              "      <td>0094b645</td>\n",
              "      <td>2020-01-24</td>\n",
              "      <td>NaN</td>\n",
              "      <td>NaN</td>\n",
              "      <td>NaN</td>\n",
              "      <td>NaN</td>\n",
              "      <td>NaN</td>\n",
              "      <td>NaN</td>\n",
              "      <td>NaN</td>\n",
              "      <td>NaN</td>\n",
              "      <td>NaN</td>\n",
              "      <td>NaN</td>\n",
              "      <td>NaN</td>\n",
              "      <td>NaN</td>\n",
              "      <td>NaN</td>\n",
              "      <td>NaN</td>\n",
              "      <td>NaN</td>\n",
              "      <td>NaN</td>\n",
              "      <td>NaN</td>\n",
              "      <td>NaN</td>\n",
              "      <td>NaN</td>\n",
              "      <td>NaN</td>\n",
              "      <td>NaN</td>\n",
              "      <td>NaN</td>\n",
              "      <td>NaN</td>\n",
              "      <td>NaN</td>\n",
              "      <td>NaN</td>\n",
              "      <td>NaN</td>\n",
              "      <td>NaN</td>\n",
              "      <td>NaN</td>\n",
              "      <td>1</td>\n",
              "      <td>Saint Lucia</td>\n",
              "      <td>NaN</td>\n",
              "      <td>NaN</td>\n",
              "      <td>13.9094</td>\n",
              "      <td>-60.9789</td>\n",
              "      <td>181889.0</td>\n",
              "      <td>LCA</td>\n",
              "      <td>LC</td>\n",
              "      <td>662.0</td>\n",
              "      <td>XCD</td>\n",
              "      <td>NaN</td>\n",
              "      <td>NaN</td>\n",
              "      <td>NaN</td>\n",
              "      <td>LC</td>\n",
              "      <td>NaN</td>\n",
              "      <td>LCA</td>\n",
              "    </tr>\n",
              "    <tr>\n",
              "      <th>86760</th>\n",
              "      <td>0094b645</td>\n",
              "      <td>2020-01-25</td>\n",
              "      <td>NaN</td>\n",
              "      <td>NaN</td>\n",
              "      <td>NaN</td>\n",
              "      <td>NaN</td>\n",
              "      <td>NaN</td>\n",
              "      <td>NaN</td>\n",
              "      <td>NaN</td>\n",
              "      <td>NaN</td>\n",
              "      <td>NaN</td>\n",
              "      <td>NaN</td>\n",
              "      <td>NaN</td>\n",
              "      <td>NaN</td>\n",
              "      <td>NaN</td>\n",
              "      <td>NaN</td>\n",
              "      <td>NaN</td>\n",
              "      <td>NaN</td>\n",
              "      <td>NaN</td>\n",
              "      <td>NaN</td>\n",
              "      <td>NaN</td>\n",
              "      <td>NaN</td>\n",
              "      <td>NaN</td>\n",
              "      <td>NaN</td>\n",
              "      <td>NaN</td>\n",
              "      <td>NaN</td>\n",
              "      <td>NaN</td>\n",
              "      <td>NaN</td>\n",
              "      <td>NaN</td>\n",
              "      <td>NaN</td>\n",
              "      <td>1</td>\n",
              "      <td>Saint Lucia</td>\n",
              "      <td>NaN</td>\n",
              "      <td>NaN</td>\n",
              "      <td>13.9094</td>\n",
              "      <td>-60.9789</td>\n",
              "      <td>181889.0</td>\n",
              "      <td>LCA</td>\n",
              "      <td>LC</td>\n",
              "      <td>662.0</td>\n",
              "      <td>XCD</td>\n",
              "      <td>NaN</td>\n",
              "      <td>NaN</td>\n",
              "      <td>NaN</td>\n",
              "      <td>LC</td>\n",
              "      <td>NaN</td>\n",
              "      <td>LCA</td>\n",
              "    </tr>\n",
              "    <tr>\n",
              "      <th>86761</th>\n",
              "      <td>0094b645</td>\n",
              "      <td>2020-01-26</td>\n",
              "      <td>NaN</td>\n",
              "      <td>NaN</td>\n",
              "      <td>NaN</td>\n",
              "      <td>NaN</td>\n",
              "      <td>NaN</td>\n",
              "      <td>NaN</td>\n",
              "      <td>NaN</td>\n",
              "      <td>NaN</td>\n",
              "      <td>NaN</td>\n",
              "      <td>NaN</td>\n",
              "      <td>NaN</td>\n",
              "      <td>NaN</td>\n",
              "      <td>NaN</td>\n",
              "      <td>NaN</td>\n",
              "      <td>NaN</td>\n",
              "      <td>NaN</td>\n",
              "      <td>NaN</td>\n",
              "      <td>NaN</td>\n",
              "      <td>NaN</td>\n",
              "      <td>NaN</td>\n",
              "      <td>NaN</td>\n",
              "      <td>NaN</td>\n",
              "      <td>NaN</td>\n",
              "      <td>NaN</td>\n",
              "      <td>NaN</td>\n",
              "      <td>NaN</td>\n",
              "      <td>NaN</td>\n",
              "      <td>NaN</td>\n",
              "      <td>1</td>\n",
              "      <td>Saint Lucia</td>\n",
              "      <td>NaN</td>\n",
              "      <td>NaN</td>\n",
              "      <td>13.9094</td>\n",
              "      <td>-60.9789</td>\n",
              "      <td>181889.0</td>\n",
              "      <td>LCA</td>\n",
              "      <td>LC</td>\n",
              "      <td>662.0</td>\n",
              "      <td>XCD</td>\n",
              "      <td>NaN</td>\n",
              "      <td>NaN</td>\n",
              "      <td>NaN</td>\n",
              "      <td>LC</td>\n",
              "      <td>NaN</td>\n",
              "      <td>LCA</td>\n",
              "    </tr>\n",
              "  </tbody>\n",
              "</table>\n",
              "</div>\n",
              "      <button class=\"colab-df-convert\" onclick=\"convertToInteractive('df-1bc43dc9-15ba-418f-9143-3d1a723bbe5c')\"\n",
              "              title=\"Convert this dataframe to an interactive table.\"\n",
              "              style=\"display:none;\">\n",
              "        \n",
              "  <svg xmlns=\"http://www.w3.org/2000/svg\" height=\"24px\"viewBox=\"0 0 24 24\"\n",
              "       width=\"24px\">\n",
              "    <path d=\"M0 0h24v24H0V0z\" fill=\"none\"/>\n",
              "    <path d=\"M18.56 5.44l.94 2.06.94-2.06 2.06-.94-2.06-.94-.94-2.06-.94 2.06-2.06.94zm-11 1L8.5 8.5l.94-2.06 2.06-.94-2.06-.94L8.5 2.5l-.94 2.06-2.06.94zm10 10l.94 2.06.94-2.06 2.06-.94-2.06-.94-.94-2.06-.94 2.06-2.06.94z\"/><path d=\"M17.41 7.96l-1.37-1.37c-.4-.4-.92-.59-1.43-.59-.52 0-1.04.2-1.43.59L10.3 9.45l-7.72 7.72c-.78.78-.78 2.05 0 2.83L4 21.41c.39.39.9.59 1.41.59.51 0 1.02-.2 1.41-.59l7.78-7.78 2.81-2.81c.8-.78.8-2.07 0-2.86zM5.41 20L4 18.59l7.72-7.72 1.47 1.35L5.41 20z\"/>\n",
              "  </svg>\n",
              "      </button>\n",
              "      \n",
              "  <style>\n",
              "    .colab-df-container {\n",
              "      display:flex;\n",
              "      flex-wrap:wrap;\n",
              "      gap: 12px;\n",
              "    }\n",
              "\n",
              "    .colab-df-convert {\n",
              "      background-color: #E8F0FE;\n",
              "      border: none;\n",
              "      border-radius: 50%;\n",
              "      cursor: pointer;\n",
              "      display: none;\n",
              "      fill: #1967D2;\n",
              "      height: 32px;\n",
              "      padding: 0 0 0 0;\n",
              "      width: 32px;\n",
              "    }\n",
              "\n",
              "    .colab-df-convert:hover {\n",
              "      background-color: #E2EBFA;\n",
              "      box-shadow: 0px 1px 2px rgba(60, 64, 67, 0.3), 0px 1px 3px 1px rgba(60, 64, 67, 0.15);\n",
              "      fill: #174EA6;\n",
              "    }\n",
              "\n",
              "    [theme=dark] .colab-df-convert {\n",
              "      background-color: #3B4455;\n",
              "      fill: #D2E3FC;\n",
              "    }\n",
              "\n",
              "    [theme=dark] .colab-df-convert:hover {\n",
              "      background-color: #434B5C;\n",
              "      box-shadow: 0px 1px 3px 1px rgba(0, 0, 0, 0.15);\n",
              "      filter: drop-shadow(0px 1px 2px rgba(0, 0, 0, 0.3));\n",
              "      fill: #FFFFFF;\n",
              "    }\n",
              "  </style>\n",
              "\n",
              "      <script>\n",
              "        const buttonEl =\n",
              "          document.querySelector('#df-1bc43dc9-15ba-418f-9143-3d1a723bbe5c button.colab-df-convert');\n",
              "        buttonEl.style.display =\n",
              "          google.colab.kernel.accessAllowed ? 'block' : 'none';\n",
              "\n",
              "        async function convertToInteractive(key) {\n",
              "          const element = document.querySelector('#df-1bc43dc9-15ba-418f-9143-3d1a723bbe5c');\n",
              "          const dataTable =\n",
              "            await google.colab.kernel.invokeFunction('convertToInteractive',\n",
              "                                                     [key], {});\n",
              "          if (!dataTable) return;\n",
              "\n",
              "          const docLinkHtml = 'Like what you see? Visit the ' +\n",
              "            '<a target=\"_blank\" href=https://colab.research.google.com/notebooks/data_table.ipynb>data table notebook</a>'\n",
              "            + ' to learn more about interactive tables.';\n",
              "          element.innerHTML = '';\n",
              "          dataTable['output_type'] = 'display_data';\n",
              "          await google.colab.output.renderOutput(dataTable, element);\n",
              "          const docLink = document.createElement('div');\n",
              "          docLink.innerHTML = docLinkHtml;\n",
              "          element.appendChild(docLink);\n",
              "        }\n",
              "      </script>\n",
              "    </div>\n",
              "  </div>\n",
              "  "
            ],
            "text/plain": [
              "             id       date  confirmed  ...  key_jhu_csse  key_nuts  key_gadm\n",
              "86757  0094b645 2020-01-22        NaN  ...            LC       NaN       LCA\n",
              "86758  0094b645 2020-01-23        NaN  ...            LC       NaN       LCA\n",
              "86759  0094b645 2020-01-24        NaN  ...            LC       NaN       LCA\n",
              "86760  0094b645 2020-01-25        NaN  ...            LC       NaN       LCA\n",
              "86761  0094b645 2020-01-26        NaN  ...            LC       NaN       LCA\n",
              "\n",
              "[5 rows x 47 columns]"
            ]
          },
          "metadata": {},
          "execution_count": 10
        }
      ],
      "source": [
        "x.head()"
      ]
    },
    {
      "cell_type": "code",
      "execution_count": 11,
      "metadata": {
        "colab": {
          "base_uri": "https://localhost:8080/"
        },
        "id": "unJNH78lqZK1",
        "outputId": "75cd1de7-acb2-4645-a4e6-dba395f649f1"
      },
      "outputs": [
        {
          "output_type": "stream",
          "name": "stdout",
          "text": [
            "Your selected dataframe has 47 columns.\n",
            "There are 43 columns that have missing values.\n",
            "Your selected dataframe has 47 columns.\n",
            "There are 43 columns that have missing values.\n"
          ]
        },
        {
          "output_type": "execute_result",
          "data": {
            "text/plain": [
              "Index(['administrative_area_level_2', 'administrative_area_level_3',\n",
              "       'key_nuts', 'key_local', 'vent', 'icu', 'hosp',\n",
              "       'people_fully_vaccinated', 'people_vaccinated', 'vaccines',\n",
              "       'key_apple_mobility', 'tests'],\n",
              "      dtype='object')"
            ]
          },
          "metadata": {},
          "execution_count": 11
        }
      ],
      "source": [
        "# Columns with more than 56% or missing data\n",
        "missing_values_table(x)[missing_values_table(x)['% of Total Values']>56].index"
      ]
    },
    {
      "cell_type": "code",
      "execution_count": 12,
      "metadata": {
        "id": "Fq2z9TI9pk7Y"
      },
      "outputs": [],
      "source": [
        "data = x.drop(['administrative_area_level_2', 'administrative_area_level_3',\n",
        "       'key_nuts', 'key_local', 'vent', 'icu', 'hosp',\n",
        "       'people_fully_vaccinated', 'people_vaccinated', 'vaccines',\n",
        "       'key_apple_mobility', 'tests'], axis=1)"
      ]
    },
    {
      "cell_type": "code",
      "execution_count": 13,
      "metadata": {
        "colab": {
          "base_uri": "https://localhost:8080/"
        },
        "id": "IVUEm3-lpm0E",
        "outputId": "71f1bf73-716e-4aa4-f502-815c9f290e75"
      },
      "outputs": [
        {
          "output_type": "execute_result",
          "data": {
            "text/plain": [
              "Index(['id', 'date', 'confirmed', 'deaths', 'recovered', 'school_closing',\n",
              "       'workplace_closing', 'cancel_events', 'gatherings_restrictions',\n",
              "       'transport_closing', 'stay_home_restrictions',\n",
              "       'internal_movement_restrictions', 'international_movement_restrictions',\n",
              "       'information_campaigns', 'testing_policy', 'contact_tracing',\n",
              "       'facial_coverings', 'vaccination_policy', 'elderly_people_protection',\n",
              "       'government_response_index', 'stringency_index',\n",
              "       'containment_health_index', 'economic_support_index',\n",
              "       'administrative_area_level', 'administrative_area_level_1', 'latitude',\n",
              "       'longitude', 'population', 'iso_alpha_3', 'iso_alpha_2', 'iso_numeric',\n",
              "       'iso_currency', 'key_google_mobility', 'key_jhu_csse', 'key_gadm'],\n",
              "      dtype='object')"
            ]
          },
          "metadata": {},
          "execution_count": 13
        }
      ],
      "source": [
        "data.columns"
      ]
    },
    {
      "cell_type": "code",
      "execution_count": 14,
      "metadata": {
        "id": "YkqcbqwQtJce"
      },
      "outputs": [],
      "source": [
        "# Handling iso names not handled by pc.country_alpha2_to_continent_code\n",
        "# for i in data['iso_alpha_2'].unique() :\n",
        "#   print(i)\n",
        "#   print(continent(i))\n",
        "\n",
        "# Removing countries rows with no country code\n",
        "data = data[data['iso_alpha_2'].notna()]"
      ]
    },
    {
      "cell_type": "code",
      "source": [
        "# missing_values_table(data)"
      ],
      "metadata": {
        "id": "AMRqznxs5xRE"
      },
      "execution_count": 15,
      "outputs": []
    },
    {
      "cell_type": "code",
      "execution_count": 16,
      "metadata": {
        "id": "A7seGBZgq-YT"
      },
      "outputs": [],
      "source": [
        "# Keeping only columns with low missing values\n",
        "data = data[['date', 'confirmed', 'deaths', 'recovered', 'latitude',\n",
        "       'longitude', 'population', 'iso_alpha_2', 'iso_alpha_3', 'vaccination_policy']]"
      ]
    },
    {
      "cell_type": "code",
      "execution_count": 17,
      "metadata": {
        "colab": {
          "base_uri": "https://localhost:8080/",
          "height": 206
        },
        "id": "9DcXP3WTssEw",
        "outputId": "063034e5-5ee9-4dcb-dc38-f4caa094916c"
      },
      "outputs": [
        {
          "output_type": "execute_result",
          "data": {
            "text/html": [
              "\n",
              "  <div id=\"df-ad1dedd1-da94-4742-88e0-fdfd197aace2\">\n",
              "    <div class=\"colab-df-container\">\n",
              "      <div>\n",
              "<style scoped>\n",
              "    .dataframe tbody tr th:only-of-type {\n",
              "        vertical-align: middle;\n",
              "    }\n",
              "\n",
              "    .dataframe tbody tr th {\n",
              "        vertical-align: top;\n",
              "    }\n",
              "\n",
              "    .dataframe thead th {\n",
              "        text-align: right;\n",
              "    }\n",
              "</style>\n",
              "<table border=\"1\" class=\"dataframe\">\n",
              "  <thead>\n",
              "    <tr style=\"text-align: right;\">\n",
              "      <th></th>\n",
              "      <th>date</th>\n",
              "      <th>confirmed</th>\n",
              "      <th>deaths</th>\n",
              "      <th>recovered</th>\n",
              "      <th>latitude</th>\n",
              "      <th>longitude</th>\n",
              "      <th>population</th>\n",
              "      <th>iso_alpha_2</th>\n",
              "      <th>iso_alpha_3</th>\n",
              "      <th>vaccination_policy</th>\n",
              "    </tr>\n",
              "  </thead>\n",
              "  <tbody>\n",
              "    <tr>\n",
              "      <th>86757</th>\n",
              "      <td>2020-01-22</td>\n",
              "      <td>NaN</td>\n",
              "      <td>NaN</td>\n",
              "      <td>NaN</td>\n",
              "      <td>13.9094</td>\n",
              "      <td>-60.9789</td>\n",
              "      <td>181889.0</td>\n",
              "      <td>LC</td>\n",
              "      <td>LCA</td>\n",
              "      <td>NaN</td>\n",
              "    </tr>\n",
              "    <tr>\n",
              "      <th>86758</th>\n",
              "      <td>2020-01-23</td>\n",
              "      <td>NaN</td>\n",
              "      <td>NaN</td>\n",
              "      <td>NaN</td>\n",
              "      <td>13.9094</td>\n",
              "      <td>-60.9789</td>\n",
              "      <td>181889.0</td>\n",
              "      <td>LC</td>\n",
              "      <td>LCA</td>\n",
              "      <td>NaN</td>\n",
              "    </tr>\n",
              "    <tr>\n",
              "      <th>86759</th>\n",
              "      <td>2020-01-24</td>\n",
              "      <td>NaN</td>\n",
              "      <td>NaN</td>\n",
              "      <td>NaN</td>\n",
              "      <td>13.9094</td>\n",
              "      <td>-60.9789</td>\n",
              "      <td>181889.0</td>\n",
              "      <td>LC</td>\n",
              "      <td>LCA</td>\n",
              "      <td>NaN</td>\n",
              "    </tr>\n",
              "    <tr>\n",
              "      <th>86760</th>\n",
              "      <td>2020-01-25</td>\n",
              "      <td>NaN</td>\n",
              "      <td>NaN</td>\n",
              "      <td>NaN</td>\n",
              "      <td>13.9094</td>\n",
              "      <td>-60.9789</td>\n",
              "      <td>181889.0</td>\n",
              "      <td>LC</td>\n",
              "      <td>LCA</td>\n",
              "      <td>NaN</td>\n",
              "    </tr>\n",
              "    <tr>\n",
              "      <th>86761</th>\n",
              "      <td>2020-01-26</td>\n",
              "      <td>NaN</td>\n",
              "      <td>NaN</td>\n",
              "      <td>NaN</td>\n",
              "      <td>13.9094</td>\n",
              "      <td>-60.9789</td>\n",
              "      <td>181889.0</td>\n",
              "      <td>LC</td>\n",
              "      <td>LCA</td>\n",
              "      <td>NaN</td>\n",
              "    </tr>\n",
              "  </tbody>\n",
              "</table>\n",
              "</div>\n",
              "      <button class=\"colab-df-convert\" onclick=\"convertToInteractive('df-ad1dedd1-da94-4742-88e0-fdfd197aace2')\"\n",
              "              title=\"Convert this dataframe to an interactive table.\"\n",
              "              style=\"display:none;\">\n",
              "        \n",
              "  <svg xmlns=\"http://www.w3.org/2000/svg\" height=\"24px\"viewBox=\"0 0 24 24\"\n",
              "       width=\"24px\">\n",
              "    <path d=\"M0 0h24v24H0V0z\" fill=\"none\"/>\n",
              "    <path d=\"M18.56 5.44l.94 2.06.94-2.06 2.06-.94-2.06-.94-.94-2.06-.94 2.06-2.06.94zm-11 1L8.5 8.5l.94-2.06 2.06-.94-2.06-.94L8.5 2.5l-.94 2.06-2.06.94zm10 10l.94 2.06.94-2.06 2.06-.94-2.06-.94-.94-2.06-.94 2.06-2.06.94z\"/><path d=\"M17.41 7.96l-1.37-1.37c-.4-.4-.92-.59-1.43-.59-.52 0-1.04.2-1.43.59L10.3 9.45l-7.72 7.72c-.78.78-.78 2.05 0 2.83L4 21.41c.39.39.9.59 1.41.59.51 0 1.02-.2 1.41-.59l7.78-7.78 2.81-2.81c.8-.78.8-2.07 0-2.86zM5.41 20L4 18.59l7.72-7.72 1.47 1.35L5.41 20z\"/>\n",
              "  </svg>\n",
              "      </button>\n",
              "      \n",
              "  <style>\n",
              "    .colab-df-container {\n",
              "      display:flex;\n",
              "      flex-wrap:wrap;\n",
              "      gap: 12px;\n",
              "    }\n",
              "\n",
              "    .colab-df-convert {\n",
              "      background-color: #E8F0FE;\n",
              "      border: none;\n",
              "      border-radius: 50%;\n",
              "      cursor: pointer;\n",
              "      display: none;\n",
              "      fill: #1967D2;\n",
              "      height: 32px;\n",
              "      padding: 0 0 0 0;\n",
              "      width: 32px;\n",
              "    }\n",
              "\n",
              "    .colab-df-convert:hover {\n",
              "      background-color: #E2EBFA;\n",
              "      box-shadow: 0px 1px 2px rgba(60, 64, 67, 0.3), 0px 1px 3px 1px rgba(60, 64, 67, 0.15);\n",
              "      fill: #174EA6;\n",
              "    }\n",
              "\n",
              "    [theme=dark] .colab-df-convert {\n",
              "      background-color: #3B4455;\n",
              "      fill: #D2E3FC;\n",
              "    }\n",
              "\n",
              "    [theme=dark] .colab-df-convert:hover {\n",
              "      background-color: #434B5C;\n",
              "      box-shadow: 0px 1px 3px 1px rgba(0, 0, 0, 0.15);\n",
              "      filter: drop-shadow(0px 1px 2px rgba(0, 0, 0, 0.3));\n",
              "      fill: #FFFFFF;\n",
              "    }\n",
              "  </style>\n",
              "\n",
              "      <script>\n",
              "        const buttonEl =\n",
              "          document.querySelector('#df-ad1dedd1-da94-4742-88e0-fdfd197aace2 button.colab-df-convert');\n",
              "        buttonEl.style.display =\n",
              "          google.colab.kernel.accessAllowed ? 'block' : 'none';\n",
              "\n",
              "        async function convertToInteractive(key) {\n",
              "          const element = document.querySelector('#df-ad1dedd1-da94-4742-88e0-fdfd197aace2');\n",
              "          const dataTable =\n",
              "            await google.colab.kernel.invokeFunction('convertToInteractive',\n",
              "                                                     [key], {});\n",
              "          if (!dataTable) return;\n",
              "\n",
              "          const docLinkHtml = 'Like what you see? Visit the ' +\n",
              "            '<a target=\"_blank\" href=https://colab.research.google.com/notebooks/data_table.ipynb>data table notebook</a>'\n",
              "            + ' to learn more about interactive tables.';\n",
              "          element.innerHTML = '';\n",
              "          dataTable['output_type'] = 'display_data';\n",
              "          await google.colab.output.renderOutput(dataTable, element);\n",
              "          const docLink = document.createElement('div');\n",
              "          docLink.innerHTML = docLinkHtml;\n",
              "          element.appendChild(docLink);\n",
              "        }\n",
              "      </script>\n",
              "    </div>\n",
              "  </div>\n",
              "  "
            ],
            "text/plain": [
              "            date  confirmed  deaths  ...  iso_alpha_2  iso_alpha_3  vaccination_policy\n",
              "86757 2020-01-22        NaN     NaN  ...           LC          LCA                 NaN\n",
              "86758 2020-01-23        NaN     NaN  ...           LC          LCA                 NaN\n",
              "86759 2020-01-24        NaN     NaN  ...           LC          LCA                 NaN\n",
              "86760 2020-01-25        NaN     NaN  ...           LC          LCA                 NaN\n",
              "86761 2020-01-26        NaN     NaN  ...           LC          LCA                 NaN\n",
              "\n",
              "[5 rows x 10 columns]"
            ]
          },
          "metadata": {},
          "execution_count": 17
        }
      ],
      "source": [
        "data.head()"
      ]
    },
    {
      "cell_type": "code",
      "execution_count": 18,
      "metadata": {
        "id": "z2Ubh7zVup6H"
      },
      "outputs": [],
      "source": [
        "# Creating continent name column\n",
        "data['continent'] = data['iso_alpha_2'].apply(continent)"
      ]
    },
    {
      "cell_type": "code",
      "execution_count": 19,
      "metadata": {
        "id": "KKvPD95Q1jsF"
      },
      "outputs": [],
      "source": [
        "# Creating country name columne\n",
        "data['country'] = data['iso_alpha_2'].apply(country)"
      ]
    },
    {
      "cell_type": "code",
      "execution_count": 20,
      "metadata": {
        "id": "qJ1k2lnE6Ext"
      },
      "outputs": [],
      "source": [
        "# Creating short date \n",
        "data['short_date'] = data['date'].dt.strftime(\"%Y-%m\")"
      ]
    },
    {
      "cell_type": "code",
      "execution_count": 21,
      "metadata": {
        "id": "HqBV3vfj2EUY"
      },
      "outputs": [],
      "source": [
        "data = data[['date', 'short_date', 'continent', 'country', 'iso_alpha_3', 'population', 'latitude', 'longitude', \n",
        "             'confirmed', 'deaths', 'recovered', 'vaccination_policy']].reset_index(drop=True)"
      ]
    },
    {
      "cell_type": "code",
      "execution_count": 22,
      "metadata": {
        "id": "USUp_pFD8b8c"
      },
      "outputs": [],
      "source": [
        "# Creating continent level agregated data\n",
        "cont_col = ['date', 'short_date', 'continent', 'population', \n",
        "             'confirmed', 'deaths', 'recovered']\n",
        "\n",
        "continent_data = data[cont_col].groupby(['date', 'short_date', 'continent']).agg({'population':'sum', 'confirmed':'sum', \n",
        "             'deaths':'sum', 'recovered':'sum'}).reset_index()"
      ]
    },
    {
      "cell_type": "code",
      "source": [
        "# Add latitude and longitude information for continent (in the center)\n",
        "continent_data['latitude'] = \"\"\n",
        "continent_data['longitude'] = \"\"\n",
        "\n",
        "lat_means = data.groupby('continent')['latitude'].mean()\n",
        "long_means = data.groupby('continent')['longitude'].mean()\n",
        "\n",
        "lat_means['North America'] = data[data['country']=='Canada']['latitude'].unique()\n",
        "long_means['North America'] = data[data['country']=='Canada']['longitude'].unique()\n",
        "lat_means['Oceania'] = data[data['country']=='Australia']['latitude'].unique()\n",
        "long_means['Oceania'] = data[data['country']=='Australia']['longitude'].unique()\n",
        "\n",
        "con = continent_data['continent'].unique()\n",
        "\n",
        "for cont in con :\n",
        "  continent_data.loc[continent_data.continent==cont, 'latitude'] = lat_means[cont]\n",
        "  continent_data.loc[continent_data.continent==cont, 'longitude'] = long_means[cont]"
      ],
      "metadata": {
        "id": "8uuk18Foo9UW"
      },
      "execution_count": 23,
      "outputs": []
    },
    {
      "cell_type": "code",
      "execution_count": 24,
      "metadata": {
        "id": "2TqlmaXe2wEq"
      },
      "outputs": [],
      "source": [
        "# Creating country level agregated data\n",
        "country_data = data.groupby(['date', 'short_date', 'continent', 'country', 'iso_alpha_3', 'population', 'latitude', 'longitude']).agg({'confirmed':'sum', \n",
        "             'deaths':'sum', 'recovered':'sum'}).reset_index()"
      ]
    },
    {
      "cell_type": "code",
      "source": [
        "# Formating floats to integers\n",
        "for col in ['confirmed', 'deaths', 'recovered'] :\n",
        "  country_data[col] = country_data[col].astype(int)\n",
        "  continent_data[col] = continent_data[col].astype(int)"
      ],
      "metadata": {
        "id": "vafgEVFwiV3A"
      },
      "execution_count": 25,
      "outputs": []
    },
    {
      "cell_type": "markdown",
      "metadata": {
        "id": "0rMpNIzO5TuZ"
      },
      "source": [
        "# Simple plots\n",
        "\n",
        "---\n",
        "---\n",
        "\n"
      ]
    },
    {
      "cell_type": "code",
      "source": [
        "pip install plotly &> /dev/null"
      ],
      "metadata": {
        "id": "c_yv6nBuZ4sM"
      },
      "execution_count": 26,
      "outputs": []
    },
    {
      "cell_type": "code",
      "execution_count": 27,
      "metadata": {
        "id": "SNRQYcXVBQfh"
      },
      "outputs": [],
      "source": [
        "pip install geoplot &> /dev/null"
      ]
    },
    {
      "cell_type": "code",
      "execution_count": 28,
      "metadata": {
        "id": "gQrhaNwZ5bF6"
      },
      "outputs": [],
      "source": [
        "pip install jupyter-dash -q &> /dev/null"
      ]
    },
    {
      "cell_type": "code",
      "source": [
        "import plotly.express as px\n",
        "from jupyter_dash import JupyterDash\n",
        "import dash_core_components as dcc\n",
        "import dash_html_components as html\n",
        "from dash.dependencies import Input, Output\n",
        "\n",
        "# Load data\n",
        "df = country_data\n",
        "\n",
        "# Define animations\n",
        "animations = {\n",
        "    'Scatter': px.scatter(\n",
        "        df, x=\"confirmed\", y=\"deaths\", animation_frame=\"short_date\", \n",
        "        animation_group=\"country\", size=\"population\", color=\"continent\", \n",
        "        hover_name=\"country\", log_x=True, \n",
        "        range_x=[10,54000000], range_y=[-1000,822000]),\n",
        "    'Bar': px.bar(\n",
        "        df, x=\"continent\", y=\"confirmed\", color=\"continent\", \n",
        "        animation_frame=\"short_date\", animation_group=\"country\", \n",
        "        range_y=[0,continent_data['confirmed'].max()]),\n",
        "}\n",
        "\n",
        "# Build App\n",
        "app = JupyterDash(__name__)\n",
        "app.layout = html.Div([\n",
        "    html.P(\"Select an animation:\"),\n",
        "    dcc.RadioItems(\n",
        "        id='selection',\n",
        "        options=[{'label': x, 'value': x} for x in animations],\n",
        "        value='Scatter'\n",
        "    ),\n",
        "    dcc.Graph(id=\"graph\"),\n",
        "])\n",
        "\n",
        "# Define callback to update graph\n",
        "@app.callback(\n",
        "    Output(\"graph\", \"figure\"), \n",
        "    [Input(\"selection\", \"value\")])\n",
        "\n",
        "def display_animated_graph(s):\n",
        "    return animations[s]\n",
        "\n",
        "# Run app and display result inline in the notebook\n",
        "app.run_server(mode='inline')"
      ],
      "metadata": {
        "colab": {
          "base_uri": "https://localhost:8080/",
          "height": 671
        },
        "id": "AQ7DGOXr4wee",
        "outputId": "06da57f2-229d-4d86-bf79-4279b0a18944"
      },
      "execution_count": 46,
      "outputs": [
        {
          "output_type": "display_data",
          "data": {
            "application/javascript": [
              "(async (port, path, width, height, cache, element) => {\n",
              "    if (!google.colab.kernel.accessAllowed && !cache) {\n",
              "      return;\n",
              "    }\n",
              "    element.appendChild(document.createTextNode(''));\n",
              "    const url = await google.colab.kernel.proxyPort(port, {cache});\n",
              "    const iframe = document.createElement('iframe');\n",
              "    iframe.src = new URL(path, url).toString();\n",
              "    iframe.height = height;\n",
              "    iframe.width = width;\n",
              "    iframe.style.border = 0;\n",
              "    element.appendChild(iframe);\n",
              "  })(8050, \"/\", \"100%\", 650, false, window.element)"
            ],
            "text/plain": [
              "<IPython.core.display.Javascript object>"
            ]
          },
          "metadata": {}
        }
      ]
    },
    {
      "cell_type": "markdown",
      "metadata": {
        "id": "0F-OIYeJBKkU"
      },
      "source": [
        "# Geographic plots\n",
        "\n",
        "---\n",
        "\n",
        "\n",
        "\n",
        "---\n",
        "\n"
      ]
    },
    {
      "cell_type": "markdown",
      "source": [
        "## Data types checks\n",
        "---\n",
        "\n"
      ],
      "metadata": {
        "id": "eRN9aMU9XFxF"
      }
    },
    {
      "cell_type": "code",
      "source": [
        "country_data['latitude'] = country_data['latitude'].astype('float')\n",
        "country_data['longitude'] = country_data['longitude'].astype('float')\n",
        "country_data['date'] = country_data['date'].astype(str)"
      ],
      "metadata": {
        "id": "aDqLOVpDnG_m"
      },
      "execution_count": 30,
      "outputs": []
    },
    {
      "cell_type": "markdown",
      "source": [
        "## Plots by continent\n",
        "\n",
        "---\n",
        "\n"
      ],
      "metadata": {
        "id": "8ottS6XvX-Rj"
      }
    },
    {
      "cell_type": "code",
      "source": [
        "animation = 'short_date'\n",
        "\n",
        "# Setting animation frame and transition duration depeding on date agregation level (day vs month)\n",
        "if animation == 'short_date' :\n",
        "  duration = 1000\n",
        "else :\n",
        "  duration = 100"
      ],
      "metadata": {
        "id": "-6JYLq0Ih3oW"
      },
      "execution_count": 31,
      "outputs": []
    },
    {
      "cell_type": "markdown",
      "source": [
        "## Plots\n",
        "\n",
        "---"
      ],
      "metadata": {
        "id": "QtmHoDVLYcnM"
      }
    },
    {
      "cell_type": "code",
      "source": [
        "import plotly.express as px\n",
        "from jupyter_dash import JupyterDash\n",
        "import dash_core_components as dcc\n",
        "import dash_html_components as html\n",
        "from dash.dependencies import Input, Output\n",
        "\n",
        "# Define animations\n",
        "animations = {\n",
        "    'Country': px.scatter_geo(country_data, \n",
        "                     lat='latitude', \n",
        "                     lon='longitude', \n",
        "                     color='continent', \n",
        "                     size='confirmed',\n",
        "                     hover_name='country',\n",
        "                     projection='equirectangular', \n",
        "                     animation_frame='short_date',\n",
        "                     animation_group='country',\n",
        "                    #  scope='europe',\n",
        "                     title='Confirmed cases'),\n",
        "    'Continent': px.scatter_geo(continent_data, \n",
        "                     lat='latitude', \n",
        "                     lon='longitude', \n",
        "                     color='continent', \n",
        "                     size='confirmed',\n",
        "                     hover_name='continent',\n",
        "                     projection='equirectangular', \n",
        "                     animation_frame='short_date',\n",
        "                     animation_group='continent',\n",
        "                    #  scope='europe',\n",
        "                     title='Confirmed cases'),\n",
        "}\n",
        "\n",
        "# Build App\n",
        "app = JupyterDash(__name__)\n",
        "app.layout = html.Div([\n",
        "    html.P(\"Select an animation:\"),\n",
        "    dcc.RadioItems(\n",
        "        id='selection',\n",
        "        options=[{'label': x, 'value': x} for x in animations],\n",
        "        value='Country'\n",
        "    ),\n",
        "    dcc.Graph(id=\"graph\"),\n",
        "])\n",
        "\n",
        "# Define callback to update graph\n",
        "@app.callback(\n",
        "    Output(\"graph\", \"figure\"), \n",
        "    [Input(\"selection\", \"value\")])\n",
        "\n",
        "def display_animated_graph(s):\n",
        "  fig = animations[s]\n",
        "  fig.layout.updatemenus[0].buttons[0].args[1][\"frame\"][\"duration\"] = duration\n",
        "  fig.layout.updatemenus[0].buttons[0].args[1][\"transition\"][\"duration\"] = duration/2\n",
        "  fig.layout.updatemenus[0].buttons[0].args[1][\"transition\"][\"easing\"] = 'quadratic-in-out'\n",
        "  fig.layout.updatemenus[0].buttons[0].label = 'Play'\n",
        "  fig.layout.updatemenus[0].buttons[1].label = 'Pause'\n",
        "  fig.update_traces(marker=dict(line=dict(width=1,\n",
        "                                          color='MediumPurple')))\n",
        "  fig.update_layout(\n",
        "      geo=dict(\n",
        "          showframe=False,\n",
        "          showcoastlines=False))\n",
        "  fig.update_layout(margin={\"r\":0,\"t\":10,\"l\":0,\"b\":0})\n",
        "  return fig\n",
        "\n",
        "# Run app and display result inline in the notebook\n",
        "app.run_server(mode='inline')"
      ],
      "metadata": {
        "colab": {
          "base_uri": "https://localhost:8080/",
          "height": 671
        },
        "id": "jsAtu-kxXCJQ",
        "outputId": "792ea355-4476-4b6f-a2c8-a7b4694cfe34"
      },
      "execution_count": 44,
      "outputs": [
        {
          "output_type": "display_data",
          "data": {
            "application/javascript": [
              "(async (port, path, width, height, cache, element) => {\n",
              "    if (!google.colab.kernel.accessAllowed && !cache) {\n",
              "      return;\n",
              "    }\n",
              "    element.appendChild(document.createTextNode(''));\n",
              "    const url = await google.colab.kernel.proxyPort(port, {cache});\n",
              "    const iframe = document.createElement('iframe');\n",
              "    iframe.src = new URL(path, url).toString();\n",
              "    iframe.height = height;\n",
              "    iframe.width = width;\n",
              "    iframe.style.border = 0;\n",
              "    element.appendChild(iframe);\n",
              "  })(8050, \"/\", \"100%\", 650, false, window.element)"
            ],
            "text/plain": [
              "<IPython.core.display.Javascript object>"
            ]
          },
          "metadata": {}
        }
      ]
    },
    {
      "cell_type": "code",
      "source": [
        ""
      ],
      "metadata": {
        "id": "pUhjVI1JZ9dO"
      },
      "execution_count": null,
      "outputs": []
    }
  ],
  "metadata": {
    "accelerator": "GPU",
    "colab": {
      "collapsed_sections": [],
      "name": "Covid_Viz.ipynb",
      "provenance": [],
      "toc_visible": true,
      "include_colab_link": true
    },
    "kernelspec": {
      "display_name": "Python 3",
      "name": "python3"
    },
    "language_info": {
      "name": "python"
    }
  },
  "nbformat": 4,
  "nbformat_minor": 0
}